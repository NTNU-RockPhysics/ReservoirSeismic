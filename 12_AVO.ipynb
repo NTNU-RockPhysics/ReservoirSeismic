{
 "cells": [
  {
   "cell_type": "markdown",
   "source": [
    "# 12： Amplitute versus Offset (AVO)"
   ],
   "metadata": {}
  },
  {
   "cell_type": "code",
   "execution_count": 1,
   "source": [
    "import numpy as np \r\n",
    "import matplotlib.pyplot as plt\r\n",
    "plt.rcParams['font.size']=14\r\n",
    "plt.rcParams['font.family']='arial'"
   ],
   "outputs": [],
   "metadata": {}
  },
  {
   "cell_type": "markdown",
   "source": [
    "<div class=\"alert alert-block alert-success\">\r\n",
    "<b>Learning Objectives:</b>\r\n",
    "<ul>\r\n",
    "    <li>Zeoppritz Equation</li>\r\n",
    "    <li>Aki-Richard approximation to Zeoppritz Equation</li>\r\n",
    "    <li>Intercept and gradient</li>\r\n",
    "</ul>\r\n",
    "</div>"
   ],
   "metadata": {}
  },
  {
   "cell_type": "markdown",
   "source": [
    "## Zeoppritz Equation\r\n",
    "The isotropic and elastic behaviour of a P wave incident on a boundary at any angle is described by the Zoeppritz (1919) equations, Aki and Richards (1980) give the results in the following convenient matrix form \r\n",
    "\r\n",
    "$\r\n",
    "\\left(\\begin{array}{cccc}\\downarrow \\uparrow & \\downarrow \\uparrow & \\uparrow \\uparrow & \\uparrow \\uparrow \\\\ \\mathrm{PP} & \\mathrm{SP} & \\mathrm{PP} & \\mathrm{SP} \\\\ \\downarrow \\uparrow & \\downarrow \\uparrow & \\uparrow \\uparrow & \\uparrow \\uparrow \\\\ \\mathrm{PS} & \\mathrm{SS} & \\mathrm{PS} & \\mathrm{SS} \\\\ \\downarrow \\downarrow & \\downarrow \\downarrow & \\uparrow \\downarrow & \\uparrow \\downarrow \\\\ \\mathrm{PP} & \\mathrm{SP} & \\mathrm{PP} & \\mathrm{SP} \\\\ \\downarrow \\downarrow & \\downarrow \\downarrow & \\uparrow \\downarrow & \\uparrow \\downarrow \\\\ \\mathrm{PS} & \\mathrm{SS} & \\mathrm{PS} & \\mathrm{SS}\\end{array}\\right)=\\mathbf{M}^{-1} \\mathbf{N}\r\n",
    "$\r\n",
    "\r\n",
    "where each matrix element is a reflection or transmission coefficient for displacement\r\n",
    "amplitudes. The first letter designates the type of incident wave, and the second letter\r\n",
    "designates the type of reflected or transmitted wave. The arrows indicate downward ↓\r\n",
    "and upward ↑ propagation, so that a combination ↑↓ indicates a reflection coefficient,\r\n",
    "while a combination ↓↓ indicates a transmission coefficient. \r\n",
    "The matrices M and N are given by\r\n",
    "\r\n",
    "$\r\n",
    "M=\\left(\\begin{array}{cccc}-\\sin \\theta_{1} & -\\cos \\theta_{\\mathrm{S} 1} & \\sin \\theta_{2} & \\cos \\theta_{\\mathrm{S} 2} \\\\ \\cos \\theta_{1} & -\\sin \\theta_{\\mathrm{S} 1} & \\cos \\theta_{2} & -\\sin \\theta_{\\mathrm{S} 2} \\\\ 2 \\rho_{1} V_{\\mathrm{S} 1} \\sin \\theta_{\\mathrm{S} 1} \\cos \\theta_{1} & \\rho_{1} V_{\\mathrm{S} 1}\\left(1-2 \\sin ^{2} \\theta_{\\mathrm{S} 1}\\right) & 2 \\rho_{2} V_{\\mathrm{S} 2} \\sin \\theta_{\\mathrm{S} 2} \\cos \\theta_{2} & \\rho_{2} V_{\\mathrm{S} 2}\\left(1-2 \\sin ^{2} \\theta_{\\mathrm{S} 2}\\right) \\\\ -\\rho_{1} V_{\\mathrm{P} 1}\\left(1-2 \\sin ^{2} \\theta_{\\mathrm{S} 1}\\right) & \\rho_{1} V_{\\mathrm{S} 1} \\sin 2 \\theta_{\\mathrm{S} 1} & \\rho_{2} V_{\\mathrm{P} 2}\\left(1-2 \\sin ^{2} \\theta_{\\mathrm{S} 2}\\right) & -\\rho_{2} V_{\\mathrm{S} 2} \\sin 2 \\theta_{\\mathrm{S} 2}\\end{array}\\right)\r\n",
    "$\r\n",
    "\r\n",
    "\r\n",
    "$\r\n",
    "\\mathrm{N}=\\left(\\begin{array}{cccc}\\sin \\theta_{1} & \\cos \\theta_{\\mathrm{S} 1} & -\\sin \\theta_{2} & -\\cos \\theta_{\\mathrm{S} 2} \\\\ \\cos \\theta_{1} & -\\sin \\theta_{\\mathrm{S} 1} & \\cos \\theta_{2} & -\\sin \\theta_{\\mathrm{S} 2} \\\\ 2 \\rho_{1} V_{\\mathrm{S} 1} \\sin \\theta_{\\mathrm{s} 1} \\cos \\theta_{1} & \\rho_{1} V_{\\mathrm{S} 1}\\left(1-2 \\sin ^{2} \\theta_{\\mathrm{S} 1}\\right) & 2 \\rho_{2} V_{\\mathrm{S} 2} \\sin \\theta_{\\mathrm{S} 2} \\cos \\theta_{2} & \\rho_{2} V_{\\mathrm{S} 2}\\left(1-2 \\sin ^{2} \\theta_{\\mathrm{S} 2}\\right) \\\\ \\rho_{1} V_{\\mathrm{P} 1}\\left(1-2 \\sin ^{2} \\theta_{\\mathrm{S} 1}\\right) & -\\rho_{1} V_{\\mathrm{S} 1} \\sin 2 \\theta_{\\mathrm{S} 1} & -\\rho_{2} V_{\\mathrm{P} 2}\\left(1-2 \\sin ^{2} \\theta_{\\mathrm{S} 2}\\right) & \\rho_{2} V_{\\mathrm{S} 2} \\sin 2 \\theta_{\\mathrm{S} 2}\\end{array}\\right)\r\n",
    "$\r\n",
    "\r\n",
    "$\\theta$ and $\\theta_s$ are the angles of P- and S-wave propagation,respectively. \r\n",
    "As we can see,  the Zoeppritz equations are complicated and do not give an intuitive feel for how rock properties impact the change of amplitude with angle. So simpler approximations are required."
   ],
   "metadata": {}
  },
  {
   "cell_type": "markdown",
   "source": [
    "## Aki-Richard approximation to Zeoppritz Equation\r\n",
    "Aki and Richards (1980) also derived a simplified form by assuming small layer\r\n",
    "contrasts. The results are conveniently expressed in terms of contrasts in VP, VS, and ρ as\r\n",
    "follows\r\n",
    "\r\n",
    "$\r\n",
    "R_{pp}(\\theta)=\\frac{1}{2}\\left(\\frac{\\Delta \\rho}{\\bar{\\rho}}+\\frac{\\Delta V_{p}}{\\bar{V}_{p}}\\right)-2\\left(\\frac{\\bar{V}_{S}}{\\bar{V}_{p}}\\right)^{2}\\left(\\frac{\\Delta \\rho}{\\bar{\\rho}}+\\frac{2 \\Delta V_{S}}{\\bar{V}_{S}}\\right) \\sin ^{2}(\\theta)+\\frac{\\Delta V_{p}}{2 \\bar{V}_{p}} \\tan ^{2}(\\theta)\r\n",
    "$\r\n",
    "\r\n",
    "$\r\n",
    "\\Delta \\rho=\\rho_2-\\rho_1, \\overline{\\rho} = \\frac{\\rho_1+\\rho_2}{2}, \\Delta V_p=V_{p2}-V_{p1}, \\Delta V_s=V_{s2}-V_{s1}\r\n",
    "$\r\n",
    "\r\n",
    "$\r\n",
    "\\overline{V_p}=\\frac{V_{p1}+V_{p2}}{2}, \\overline{V_s}=\\frac{V_{s1}+V_{s2}}{2}\r\n",
    "$"
   ],
   "metadata": {}
  },
  {
   "cell_type": "code",
   "execution_count": 2,
   "source": [
    "def PP_ref(theta, vp1,vp2,vs1,vs2,den1,den2):\r\n",
    "    \"\"\"Aki-Richard approximation to PP reflectivity. Written by Jiaxin Yu (July 2021)\r\n",
    "\r\n",
    "    Args:\r\n",
    "        theta (degree): incident angle\r\n",
    "        vp1 (m/s): P wave velocity of layer 1\r\n",
    "        vp2 (m/s): P wave velocity of layer 2\r\n",
    "        vs1 (m/s): S wave velocity of layer 1\r\n",
    "        vs2 (m/s): S wave velocity of layer 2\r\n",
    "        den1 (kg/m3): density of layer 1\r\n",
    "        den2 (kg/m3): density of layer 2\r\n",
    "\r\n",
    "    Returns:\r\n",
    "        R_pp: P wave reflectivity\r\n",
    "    \"\"\"   \r\n",
    "    theta=np.deg2rad(theta) # convert angle in degree to angle in radian\r\n",
    "    delta_den=den2-den1\r\n",
    "    delta_vp=vp2-vp1\r\n",
    "    delta_vs=vs2-vs1\r\n",
    "    rho_mean=0.5*(den1+den2)\r\n",
    "    vp_mean=0.5*(vp1+vp2)\r\n",
    "    vs_mean=0.5*(vs1+vs2)\r\n",
    "    \r\n",
    "    Rpp0=0.5*(delta_den/rho_mean+delta_vp/vp_mean)\r\n",
    "    M= -2*(vs_mean/vp_mean)**2*(2*delta_vs/vs_mean+delta_den/rho_mean)\r\n",
    "    N= 0.5* delta_vp/vp_mean\r\n",
    "    R_pp= Rpp0+ M *np.sin(theta)**2 + N * np.tan(theta)**2\r\n",
    "    return R_pp"
   ],
   "outputs": [],
   "metadata": {}
  },
  {
   "cell_type": "markdown",
   "source": [
    "## Intercept and gradient\r\n",
    "\r\n",
    "The expression is equivelent to:\r\n",
    "\r\n",
    "$\r\n",
    "R_{pp}(\\theta)=\\frac{1}{2}(\\frac{\\Delta \\rho}{\\bar \\rho}+\\frac{\\Delta V_p}{\\bar{V_p}})+\\left [ \\frac{\\Delta V_p}{2\\bar{V_p}}-2\\left ( \\frac{\\bar{V_s}}{\\bar{V_p}} \\right  ) \r\n",
    "^2\\ \\left ( \\frac{\\Delta \\rho}{\\bar \\rho}+\\frac{2\\Delta V_S}{\\bar V_s} \\right )  \\right ] \\sin^2\\theta +\\frac{1}{2}\\frac{\\Delta V_p}{\\bar{V_p}}(\\tan^2\\theta-\\sin^2\\theta)\r\n",
    "$\r\n",
    "\r\n",
    "and this can be written as three-term form:\r\n",
    "\r\n",
    "$\r\n",
    "R_{PP}(\\theta)\\approx R_{P0}+B \\sin^{2} \\theta+C(\\tan^{2} \\theta-\\sin ^{2} \\theta)\r\n",
    "$\r\n",
    "\r\n",
    "where $R_{P0}$ represents the zero offset P wave section, B describes the variation at intermediate offsets and is often called the AVO gradient, and C dominates at far offsets near the critical angle, it controls the turning point for the angle dependent reflectivity at medium to large angles close to critical angle if it exists.\r\n",
    "\r\n",
    "When assume small incident angle, the three-term approximation can be reduced to two-term approximation:\r\n",
    "$\r\n",
    "R_{PP}(\\theta)\\approx R_{P0}+B \\sin^{2} \\theta\r\n",
    "$\r\n"
   ],
   "metadata": {}
  },
  {
   "cell_type": "code",
   "execution_count": 3,
   "source": [
    "def R_G(vp1,vp2,vs1,vs2,den1,den2):\r\n",
    "    \"\"\"Compute gradient and intercept based on two term approximation, Written by Jiaxin Yu (July 2021)\r\n",
    "    Args:\r\n",
    "        vp1 (m/s): P wave velocity of layer 1\r\n",
    "        vp2 (m/s): P wave velocity of layer 2\r\n",
    "        vs1 (m/s): S wave velocity of layer 1\r\n",
    "        vs2 (m/s): S wave velocity of layer 2\r\n",
    "        den1 (kg/m3): density of layer 1\r\n",
    "        den2 (kg/m3): density of layer 2\r\n",
    "\r\n",
    "    Returns:\r\n",
    "        R: intercept\r\n",
    "        G: gradient\r\n",
    "    \"\"\"  \r\n",
    "    delta_den=den2-den1\r\n",
    "    delta_vp=vp2-vp1\r\n",
    "    delta_vs=vs2-vs1\r\n",
    "    rho_mean=0.5*(den1+den2)\r\n",
    "    vp_mean=0.5*(vp1+vp2)\r\n",
    "    vs_mean=0.5*(vs1+vs2)\r\n",
    "    \r\n",
    "    R=0.5*(delta_den/rho_mean+delta_vp/vp_mean)\r\n",
    "    G= 0.5*delta_vp/vp_mean-2*(vs_mean/vp_mean)**2*(2*delta_vs/vs_mean+delta_den/rho_mean)\r\n",
    "    \r\n",
    "    return R,G"
   ],
   "outputs": [],
   "metadata": {}
  },
  {
   "cell_type": "markdown",
   "source": [
    "## Example\r\n",
    "Assume constant vertical velocity in the overburden above a horizontal reflector. The reflector shown  represent a clayrich overburden overlying a thick water saturated sandstone. The elastic properties of the clay are as below. Calculate the P-to-P reflectivity of the clay-wet sand interface for the angles up to 90 degree."
   ],
   "metadata": {}
  },
  {
   "cell_type": "code",
   "execution_count": 11,
   "source": [
    "# the clay rich layer is denoted as 1 and the wet sandstone layer is denoted as 2\r\n",
    "vp1=2190 \r\n",
    "vs1=716\r\n",
    "den1=2118\r\n",
    "vp2=2760\r\n",
    "vs2=1473\r\n",
    "den2=2229\r\n",
    "theta=np.linspace(0,90,100)\r\n",
    "R_pp=PP_ref(theta, vp1,vp2,vs1,vs2,den1,den2)\r\n",
    "# plot\r\n",
    "plt.plot(theta,R_pp,'b-',lw=3)\r\n",
    "plt.ylim(-0.5,0.5)\r\n",
    "plt.xlim(0,90)\r\n",
    "plt.xlabel(' $\\\\theta$ ')\r\n",
    "plt.ylabel('$R_{pp}$')\r\n",
    "plt.xticks(np.arange(min(theta), max(theta)+1, 10))\r\n",
    "plt.grid(ls='--')\r\n"
   ],
   "outputs": [
    {
     "output_type": "display_data",
     "data": {
      "text/plain": [
       "<Figure size 432x288 with 1 Axes>"
      ],
      "image/png": "[encoded data removed]"
     },
     "metadata": {
      "needs_background": "light"
     }
    }
   ],
   "metadata": {}
  },
  {
   "cell_type": "markdown",
   "source": [
    "<div class=\"alert alert-block alert-info\">\r\n",
    "<b>Reference:</b> Mavko, G., Mukerji, T. and Dvorkin, J., 2020. The rock physics handbook. Cambridge university press.\r\n",
    "</div>"
   ],
   "metadata": {}
  }
 ],
 "metadata": {
  "interpreter": {
   "hash": "c41312438b6edc86f6a892784e16392cb06488d191d80269831743d8f4207234"
  },
  "kernelspec": {
   "name": "python3",
   "display_name": "Python 3.8.6 64-bit"
  },
  "language_info": {
   "name": "python",
   "version": "3.8.6",
   "mimetype": "text/x-python",
   "codemirror_mode": {
    "name": "ipython",
    "version": 3
   },
   "pygments_lexer": "ipython3",
   "nbconvert_exporter": "python",
   "file_extension": ".py"
  },
  "orig_nbformat": 4
 },
 "nbformat": 4,
 "nbformat_minor": 2
}