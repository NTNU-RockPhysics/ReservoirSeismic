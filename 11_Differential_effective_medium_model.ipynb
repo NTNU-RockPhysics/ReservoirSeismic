{
 "cells": [
  {
   "cell_type": "markdown",
   "source": [
    "# 11: Differential Effective Medium (DEM)"
   ],
   "metadata": {}
  },
  {
   "cell_type": "code",
   "execution_count": 1,
   "source": [
    "import numpy as np \r\n",
    "import matplotlib.pyplot as plt\r\n",
    "plt.rcParams['font.size']=14\r\n",
    "plt.rcParams['font.family']='arial'"
   ],
   "outputs": [],
   "metadata": {}
  },
  {
   "cell_type": "markdown",
   "source": [
    "<div class=\"alert alert-block alert-success\">\r\n",
    "<b>Learning Objectives:</b>\r\n",
    "<ul>\r\n",
    "    <li>Berrymann's differential effective medium</li>\r\n",
    "</ul>\r\n",
    "</div>"
   ],
   "metadata": {}
  },
  {
   "cell_type": "markdown",
   "source": [
    "## Berrymann's Differential effective medium (DEM) model\r\n",
    "\r\n",
    "The DEM theory models two-phase composites by incrementally adding inclusions of one phase (phase 2) to the matrix phase. The matrix begins as phase 1 (when the concentration of phase 2 is zero) and is changed at each step as a new increment of phase 2 material is added. The process is continued until the desired proportion of the constituents is reached. The process of incrementally adding inclusions to the matrix is really a thought experiment and should not be taken to provide an accurate description of the true evolution of rock porosity in nature.\r\n",
    "\r\n",
    "The coupled system of ordinary differential equations for the effective bulk and\r\n",
    "shear moduli, $K^{DEM}_{eff}$ and $\\mu^{DEM}_{eff}$, respectively, are (Berryman, 1992b)\r\n",
    "\r\n",
    "$\r\n",
    "(1-y) \\frac{d}{d y}\\left[K_{D E M}^{e f f}(y)\\right]=\\left(K_{2}-K_{D E M}^{e f f}\\right) P^{e f f 2}(y)\r\n",
    "$\r\n",
    "\r\n",
    "$\r\n",
    "(1-y) \\frac{d}{d y}\\left[\\mu_{D E M}^{e f f}(y)\\right]=\\left(\\mu_{2}-\\mu_{D E M}^{e f f}\\right) Q^{e f f 2}(y)\r\n",
    "$\r\n",
    "\r\n",
    "with initial conditions  $K^{DEM}_{eff} (0)=K_1$ and $\\mu^{DEM}_{eff}(0)=\\mu_1$, where K1 and μ1 are the bulk and shear moduli of the initial host material (phase 1), K2 and μ2 are the bulk and shear moduli of the incrementally added inclusions (phase 2), and y is the concentration of phase 2.\r\n",
    "For fluid inclusions and voids, y equals the porosity, ϕ. **Fluid Effect**: \r\n",
    "Dry cavities can be modeled by setting the inclusion moduli to zero. Fluid-saturated cavities are simulated by setting the inclusion shear modulus to zero. Expressions for the\r\n",
    "volumetric and deviatoric strain concentration factors, Peff 2 and Qeff 2:\r\n",
    "\r\n",
    "$P^{m n}=\\frac{1}{3}T_{i i j j}^{m n}$\r\n",
    "\r\n",
    "$Q^{m n}=\\frac{1}{5}(T_{i j i j}^{m n}-T_{i i j j}^{m n})$\r\n",
    "\r\n",
    "$T_{i i j j}^{m n}=\\frac{3 F_{1}}{F_{2}}$\r\n",
    "\r\n",
    "$T_{i j i j}^{m n}-\\frac{1}{3} T_{i i j j}^{m n}=\\frac{2}{F_{3}}+\\frac{1}{F_{4}}+\\frac{F_{4} F_{5}+F_{6} F_{7}-F_{8} F_{9}}{F_{2} F_{4}}$\r\n",
    "\r\n",
    "where\r\n",
    "\r\n",
    "$F_{1}=1+A\\left[\\frac{3}{2}(f+\\theta)-R\\left(\\frac{3}{2} f+\\frac{5}{2} \\theta-\\frac{4}{3}\\right)\\right]$\r\n",
    "\r\n",
    "$F_{2}=1+A\\left[1+\\frac{3}{2}(f+\\theta)-\\frac{1}{2} R(3 f+5 \\theta)\\right]+B(3-4 R)+\\frac{1}{2} A(A+3 B)(3-4 R)\\left[f+\\theta-R\\left(f-\\theta+2 \\theta^{2}\\right)\\right] $ \\\\\r\n",
    "\r\n",
    "\r\n",
    "$F_{3}=1+A\\left[1-\\left(f+\\frac{3}{2} \\theta\\right)+R(f+\\theta)\\right]$\r\n",
    "\r\n",
    "$F_{4}=1+\\frac{1}{4} A[f+3 \\theta-R(f-\\theta)]$ \r\n",
    "\r\n",
    "$F_{5}=A\\left[-f+R\\left(f+\\theta-\\frac{4}{3}\\right)\\right]+B \\theta(3-4 R)$ \r\n",
    "\r\n",
    "$F_{6}=1+A[1+f-R(f+\\theta)]+B(1-\\theta)(3-4 R)$ \r\n",
    "\r\n",
    "$F_{7}=2+\\frac{1}{4} A[3 f+9 \\theta-R(3 f+5 \\theta)]+B \\theta(3-4 R)$ \r\n",
    "\r\n",
    "$F_{8}=A\\left[1-2 R+\\frac{1}{2} f(R-1)+\\frac{1}{2} \\theta(5 R-3)\\right]+B(1-\\theta)(3-4 R)$ \r\n",
    "\r\n",
    "$F_{9}=A[(R-1) f-R \\theta]+B \\theta(3-4 R)$\r\n",
    "\r\n",
    "with $A, B$, and $R$ given by\r\n",
    "\r\n",
    "$A=\\mu_{\\mathrm{i}} / \\mu_{\\mathrm{m}}-1$\r\n",
    "\r\n",
    "$B=\\frac{1}{3}\\left(\\frac{K_{\\mathrm{i}}}{K_{\\mathrm{m}}}-\\frac{\\mu_{\\mathrm{i}}}{\\mu_{\\mathrm{m}}}\\right)$\r\n",
    "\r\n",
    "$R=\\frac{\\left(1-2 v_{\\mathrm{m}}\\right)}{2\\left(1-v_{\\mathrm{m}}\\right)}$\r\n",
    "\r\n",
    "The functions $\\theta$ and $f$ are given by \r\n",
    "\r\n",
    "$\r\n",
    "\\theta=\\begin{cases}\r\n",
    "\\{\\frac{\\alpha}{\\left(\\alpha^{2}-1\\right)^{3 / 2}}\\left[\\alpha\\left(\\alpha^{2}-1\\right)^{1 / 2}-\\cosh ^{-1} \\alpha\\right]\r\n",
    " \\\\\r\n",
    "\\frac{\\alpha}{\\left(1-\\alpha^{2}\\right)^{3 / 2}}\\left[\\cos ^{-1} \\alpha-\\alpha\\left(1-\\alpha^{2}\\right)^{1 / 2}\\right]\r\n",
    "\\end{cases}\r\n",
    "$\r\n",
    "for prolate and oblate spheroids, respectively, and\r\n",
    "\r\n",
    "$\r\n",
    "f=\\frac{\\alpha^{2}}{1-\\alpha^{2}}(3 \\theta-2)\r\n",
    "$\r\n",
    "\r\n",
    "Note that $\\alpha$ <1 for oblate spheroids and $\\alpha>1 $ for prolate spheroids\r\n",
    "\r\n",
    "For spherical pores:\r\n",
    "\r\n",
    "$\r\n",
    "P=\\frac{K_{\\mathrm{m}}+\\frac{4}{3} \\mu_{\\mathrm{m}}}{K_{\\mathrm{i}}+\\frac{4}{3} \\mu_{\\mathrm{m}}} \r\n",
    "$\r\n",
    "\r\n",
    "$\r\n",
    "Q=\\frac{\\mu_{\\mathrm{m}}+\\zeta_{\\mathrm{m}}}{\\mu_{\\mathrm{i}}+\\zeta_{\\mathrm{m}}}\r\n",
    "$"
   ],
   "metadata": {}
  },
  {
   "cell_type": "code",
   "execution_count": 8,
   "source": [
    "from scipy.integrate import odeint\r\n",
    "\r\n",
    "def PQ(Km,Gm, Ki,Gi, alpha):    \r\n",
    "    \"\"\" compute geometric strain concentration factors P and Q for prolate and oblate spheroids according to Berymann (1980). Written by Jiaxin Yu (July 2021)\r\n",
    "    \r\n",
    "\r\n",
    "    Args:\r\n",
    "        Km (GPa): Bulk modulus of matrix phase\r\n",
    "        Gm (GPa): Shear modulus of matrix phase\r\n",
    "        Ki (GPa): Bulk modulus of matrix phase\r\n",
    "        Gi (GPa): Shear modulus of matrix phase\r\n",
    "        alpha (float): aspect ratio. Note that α <1 for oblate spheroids and α > 1 for prolate spheroids\r\n",
    "\r\n",
    "    Returns:\r\n",
    "        P,Q (unitless): geometric strain concentration factors\r\n",
    "    \"\"\"\r\n",
    "\r\n",
    "    if alpha==1:\r\n",
    "        P= (Km+4*Gm/3)/(Ki+4*Gm/3)\r\n",
    "        kesai= Gm/6 *(9*Km+8*Gm)/(Km+2*Gm)\r\n",
    "        Q= (Gm+kesai)/(Gi+kesai)\r\n",
    "        \r\n",
    "    \r\n",
    "    else:\r\n",
    "\r\n",
    "        if alpha<1:\r\n",
    "            theta= alpha/(1.0 - alpha**2)**(3.0/2.0) * (np.arccos(alpha) - alpha*np.sqrt(1.0 - alpha**2))\r\n",
    "        else:\r\n",
    "            theta= alpha/(alpha**2-1)**(3.0/2.0) * ( alpha*(alpha**2-1)**0.5 -np.cosh(alpha)**-1)\r\n",
    "        f= alpha**2*(3.0*theta - 2.0)/(1.0 - alpha**2)\r\n",
    "        A = Gi/Gm - 1.0\r\n",
    "        B = (Ki/Km - Gi/Gm)/3.0\r\n",
    "        R = Gm/(Km + (4.0/3.0)*Gm) # \r\n",
    "        F1 = 1.0 + A*(1.5*(f + theta) - R*(1.5*f + 2.5*theta - 4.0/3.0))\r\n",
    "        F2 = 1.0 + A*(1.0 + 1.5*(f + theta) - R*(1.5*f + 2.5*theta)) + B*(3.0 - 4.0*R) + A*(A + 3.0*B)*(1.5 - 2.0*R)*(f + theta - R*(f - theta + \r\n",
    "        2.0*theta**2))\r\n",
    "        F3 = 1.0 + A*(1.0 - f - 1.5*theta + R*(f + theta))\r\n",
    "        F4 = 1.0 + (A/4.0)*(f + 3.0*theta - R*(f - theta))\r\n",
    "        F5 = A*(-f + R*(f + theta - 4.0/3.0)) + B*theta*(3.0 - 4.0*R)\r\n",
    "        F6 = 1.0 + A*(1.0 + f - R*(f + theta)) + B*(1.0 - theta)*(3.0 - 4.0*R)\r\n",
    "        F7 = 2.0 + (A/4.0)*(3.0*f + 9.0*theta - R*(3.0*f + 5.0*theta)) + B*theta*(3.0 - 4.0*R)\r\n",
    "        F8 = A*(1.0 - 2.0*R + (f/2.0)*(R - 1.0) + (theta/2.0)*(5.0*R - 3.0)) + B*(1.0 - theta)*(3.0 - 4.0*R)\r\n",
    "        F9 = A*((R - 1.0)*f - R*theta) + B*theta*(3.0 - 4.0*R)\r\n",
    "        Tiijj = 3*F1/F2\r\n",
    "        Tijij = Tiijj/3 + 2/F3 + 1/F4 + (F4*F5 + F6*F7 - F8*F9)/(F2*F4)\r\n",
    "        P = Tiijj/3\r\n",
    "        Q = (Tijij - P)/5\r\n",
    "    return P, Q\r\n",
    "def DEM(y,t, params):\r\n",
    "    '''\r\n",
    "    ODE solver tutorial: https://physics.nyu.edu/pine/pymanual/html/chap9/chap9_scipy.html. Written by Jiaxin Yu (July 2021)\r\n",
    "    '''\r\n",
    "    K_eff,G_eff=y  # unpack current values of y\r\n",
    "    Gi,Ki,alpha = params # unpack parameters \r\n",
    "    P, Q= PQ(G_eff,K_eff,Gi,Ki, alpha)\r\n",
    "    derivs = [1/(1-t) * (Ki-K_eff) * P,  1/(1-t) * -G_eff * Q]\r\n",
    "    return derivs\r\n"
   ],
   "outputs": [],
   "metadata": {}
  },
  {
   "cell_type": "code",
   "execution_count": 3,
   "source": [
    "## Example\r\n",
    "from scipy.integrate import odeint"
   ],
   "outputs": [],
   "metadata": {}
  },
  {
   "cell_type": "code",
   "execution_count": 9,
   "source": [
    "# DEM modelling the crack \r\n",
    "Gi =0\r\n",
    "Ki =0 # dry pore\r\n",
    "alpha = 1\r\n",
    "# Initial values\r\n",
    "K_eff0 = 37   # host mineral bulk modulus \r\n",
    "G_eff0 = 45   # host mineral shear modulus \r\n",
    "#Bundle parameters for ODE solver\r\n",
    "params = [Gi,Ki,alpha]\r\n",
    "#Bundle initial conditions for ODE solver\r\n",
    "y0 = [K_eff0,G_eff0]\r\n",
    "# Make time array for solution\r\n",
    "tStop = 1\r\n",
    "tInc = 0.01\r\n",
    "t = np.arange(0, tStop, tInc)\r\n",
    "# Call the ODE solver\r\n",
    "psoln = odeint(DEM, y0, t, args=(params,))\r\n",
    "K_dry_dem=psoln[:,0]\r\n",
    "G_dry_dem=psoln[:,1]\r\n"
   ],
   "outputs": [],
   "metadata": {}
  },
  {
   "cell_type": "code",
   "execution_count": 10,
   "source": [
    "# plot\r\n",
    "plt.figure(figsize=(6,6))\r\n",
    "plt.xlabel('Porosity')\r\n",
    "plt.ylabel('Bulk modulus [GPa]')\r\n",
    "plt.title('DEM dry-pore modelling')\r\n",
    "plt.plot(t, K_dry_dem)\r\n",
    "plt.grid(ls='--')"
   ],
   "outputs": [
    {
     "output_type": "display_data",
     "data": {
      "text/plain": [
       "<Figure size 432x432 with 1 Axes>"
      ],
      "image/png": "[encoded data removed]"
     },
     "metadata": {
      "needs_background": "light"
     }
    }
   ],
   "metadata": {}
  },
  {
   "cell_type": "markdown",
   "source": [
    "<div class=\"alert alert-block alert-info\">\r\n",
    "<b>Reference:</b> Mavko, G., Mukerji, T. and Dvorkin, J., 2020. The rock physics handbook. Cambridge university press.\r\n",
    "</div>"
   ],
   "metadata": {}
  }
 ],
 "metadata": {
  "interpreter": {
   "hash": "c41312438b6edc86f6a892784e16392cb06488d191d80269831743d8f4207234"
  },
  "kernelspec": {
   "name": "python3",
   "display_name": "Python 3.8.6 64-bit"
  },
  "language_info": {
   "name": "python",
   "version": "3.8.6",
   "mimetype": "text/x-python",
   "codemirror_mode": {
    "name": "ipython",
    "version": 3
   },
   "pygments_lexer": "ipython3",
   "nbconvert_exporter": "python",
   "file_extension": ".py"
  },
  "orig_nbformat": 4
 },
 "nbformat": 4,
 "nbformat_minor": 2
}