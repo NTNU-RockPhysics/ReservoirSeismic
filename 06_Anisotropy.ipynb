{
 "cells": [
  {
   "cell_type": "markdown",
   "source": [
    "# 06: Anisotropy"
   ],
   "metadata": {}
  },
  {
   "cell_type": "code",
   "execution_count": 1,
   "source": [
    "import numpy as np \r\n",
    "import matplotlib.pyplot as plt\r\n",
    "plt.rcParams['font.size']=14\r\n",
    "plt.rcParams['font.family']='arial'"
   ],
   "outputs": [],
   "metadata": {}
  },
  {
   "cell_type": "markdown",
   "source": [
    "<div class=\"alert alert-block alert-success\">\r\n",
    "<b>Learning Objectives:</b>\r\n",
    "<ul>\r\n",
    "    <li>Thomsen parameters</li>\r\n",
    "    <li>Weak anistropic approximatio of phase velocities</li>\r\n",
    "    <li>Backus average modeling</li>\r\n",
    "</ul>\r\n",
    "</div>"
   ],
   "metadata": {}
  },
  {
   "cell_type": "markdown",
   "source": [
    "stressed-induced seismic anisotropy: if an initially isotropic\r\n",
    "material develops anisotropy due to applied stress, the anisotropy must have at least\r\n",
    "orthorhombic symmetry. "
   ],
   "metadata": {}
  },
  {
   "cell_type": "markdown",
   "source": [
    "## Thomsen parameters\r\n",
    "\r\n",
    "The Elastic constant  of a transversely isotropic elastic material  in terms of Voigt notation can be represented as \r\n",
    "\r\n",
    "$\r\n",
    "\\begin{bmatrix}\r\n",
    "  c_{11} & c_{12} & c_{13} & 0 & 0 & 0 \\\\\r\n",
    "  c_{12} & c_{11} & c_{13} & 0 & 0 & 0 \\\\\r\n",
    "  c_{13} & c_{13} & c_{33} & 0 & 0 & 0 \\\\\r\n",
    "  0 & 0 & 0 & c_{44} & 0 & 0 \\\\\r\n",
    "  0 & 0 & 0 & 0 & c_{44} & 0\\\\\r\n",
    "  0 & 0 & 0 & 0 & 0 & c_{66}\r\n",
    "\\end{bmatrix}\r\n",
    "$\r\n",
    "where \r\n",
    "$\r\n",
    "c_{66}=\\frac{1}{2}\\left(c_{11}-c_{12}\\right)\r\n",
    "$\r\n",
    "\r\n",
    "Here z-axis is the unique symmetry axis, isotropy in xy-plane.\r\n",
    "\r\n",
    "Thomsen (1986) simplified the elasticity of a VTI material by introducing 5 anisotropy parameters\r\n",
    "\r\n",
    "P wave anisotropy: \r\n",
    "$\r\n",
    "\\varepsilon=\\frac{c_{11}-c_{33}}{2 c_{33}}\r\n",
    "$  \r\n",
    "\r\n",
    "S wave anisotropy: \r\n",
    "$\r\n",
    "\\gamma=\\frac{c_{66}-c_{44}}{2 c_{44}}\r\n",
    "$  \r\n",
    "\r\n",
    "Moveout parameters: \r\n",
    "$\r\n",
    "\\delta=\\frac{\\left(c_{13}+c_{44}\\right)^{2}-\\left(c_{33}-c_{44}\\right)^{2}}{2 c_{33}\\left(c_{33}-c_{44}\\right)}\r\n",
    "$  \r\n",
    "\r\n",
    "P wave velocities: \r\n",
    "$\r\n",
    "\\alpha=\\sqrt{c_{33} / \\rho}\r\n",
    "$ \r\n",
    "\r\n",
    "S wave velocities: \r\n",
    "$\r\n",
    "\\beta=\\sqrt{c_{44} / \\rho}\r\n",
    "$\r\n",
    "\r\n",
    "**Intepretation of $\\varepsilon$, $\\gamma$ and $\\delta$**: \r\n",
    "\r\n",
    "The preceding equations are valid for any strength of VTI anisotropy, since they are just definitions. <br>\r\n",
    "\r\n",
    "But for weak anisotropy, $\\varepsilon$ is usually called \"P-wave anisotropy\", as it can be seen to approximatelt describe the fractional difference between the P-wave velocities parallel and orthogonal to the symmetry axis\r\n",
    "\r\n",
    "$\r\n",
    "\\varepsilon \\approx \\frac{V_{\\mathrm{P}}\\left(90^{\\circ}\\right)-V_{\\mathrm{P}}\\left(0^{\\circ}\\right)}{V_{\\mathrm{P}}\\left(0^{\\circ}\\right)}\r\n",
    "$\r\n",
    "\r\n",
    "the constant $\\gamma$ can be seen to describe the fractional difference between the SH-wave velocities parallel and orthogonal to the symmetry axis, which is equivalent to the difference between the velocities of S-waves polarized parallel and normal to the symmetry axis, both propagating normal to the symmetry axis:\r\n",
    "\r\n",
    "$\r\n",
    "\\gamma \\approx \\frac{V_{\\mathrm{SH}}\\left(90^{\\mathrm{o}}\\right)-V_{\\mathrm{SV}}\\left(90^{\\circ}\\right)}{V_{\\mathrm{SV}}\\left(90^{\\circ}\\right)}=\\frac{V_{\\mathrm{SH}}\\left(90^{\\mathrm{o}}\\right)-V_{\\mathrm{SH}}\\left(0^{\\mathrm{o}}\\right)}{V_{\\mathrm{SH}}\\left(0^{\\circ}\\right)}\r\n",
    "$\r\n",
    "\r\n",
    "$\\delta$ is called moveout parameter as the small-offset normal moveout (NMO) velocity is affected by VTI anisotropy, $\\delta$ goes into the equation for NMO velocities, $V_{NMO,P}$, $V_{NMO,SV}$, and $V_{NMO,SH} for\r\n",
    "P-, SV-, and SH-modes calculation: \r\n",
    "\r\n",
    "$\r\n",
    "V_{\\mathrm{NMO}, \\mathrm{P}}=\\alpha \\sqrt{1+2 \\delta}\r\n",
    "$\r\n",
    "\r\n",
    "$\r\n",
    "V_{\\mathrm{NMO}, \\mathrm{SV}}=\\beta \\sqrt{1+2 \\sigma}, \\quad \\sigma=\\left(\\frac{\\alpha}{\\beta}\\right)^{2}(\\varepsilon-\\delta)\r\n",
    "$\r\n",
    "\r\n",
    "$\r\n",
    "V_{\\mathrm{NMO}, \\mathrm{SH}}=\\beta \\sqrt{1+2 \\gamma}\r\n",
    "$\r\n",
    "\r\n",
    "In terms of the Thomsen parameters, the three phase velocities for weak anisotropy can\r\n",
    "be approximated as\r\n",
    "\r\n",
    "$\r\n",
    "V_{\\mathrm{P}}(\\theta) \\approx \\alpha\\left(1+\\delta \\sin ^{2} \\theta \\cos ^{2} \\theta+\\varepsilon \\sin ^{4} \\theta\\right)\r\n",
    "$\r\n",
    "\r\n",
    "$\r\n",
    "V_{\\mathrm{SV}}(\\theta) \\approx \\beta\\left[1+\\frac{\\alpha^{2}}{\\beta^{2}}(\\varepsilon-\\delta) \\sin ^{2} \\theta \\cos ^{2} \\theta\\right]\r\n",
    "$\r\n",
    "\r\n",
    "$\r\n",
    "V_{\\mathrm{SH}}(\\theta) \\approx \\beta\\left(1+\\gamma \\sin ^{2} \\theta\\right)\r\n",
    "$"
   ],
   "metadata": {}
  },
  {
   "cell_type": "code",
   "execution_count": 47,
   "source": [
    "def Thomsen(C11, C33, C13, C44, C66, den, theta):\r\n",
    "    \"\"\"Computes  three phase velocities for weak anisotropy using Thomsen’s parameters. Written by Jiaxin Yu (July 2021)\r\n",
    "\r\n",
    "    Args:\r\n",
    "        C11 (GPa): stiffness\r\n",
    "        C33 (GPa): stiffness\r\n",
    "        C13 (GPa): stiffness\r\n",
    "        C44 (GPa): stiffness\r\n",
    "        C66 (GPa): stiffness\r\n",
    "        den (g/cm3): density of the medium\r\n",
    "        theta (unitless): angle of incidence\r\n",
    "\r\n",
    "    Returns:\r\n",
    "        VP, VSV, VSH: wave velocities propagating along given direction\r\n",
    "    \"\"\"    \r\n",
    "    alpha= np.sqrt(C33/den) *1e3\r\n",
    "    beta= np.sqrt(C44/den) *1e3\r\n",
    "    epsilon= 0.5* (C11-C33)/C33\r\n",
    "    gamma= 0.5 * (C66-C44)/C44\r\n",
    "    theta= np.deg2rad(theta)\r\n",
    "    delta= ((C13+C44)**2-(C33-C44)**2 )/ (2*C33*(C33-C44))\r\n",
    "    VP= alpha*(1+delta*np.sin(theta)**2*np.cos(theta)**2+epsilon*np.sin(theta)**4)\r\n",
    "    VSV= beta*(1+alpha**2/beta**2 * (epsilon-delta)*np.sin(theta)**2*np.cos(theta)**2)\r\n",
    "    VSH= beta*(1+gamma*np.sin(theta)**2)\r\n",
    "    return VP, VSV, VSH"
   ],
   "outputs": [],
   "metadata": {}
  },
  {
   "cell_type": "markdown",
   "source": [
    "## Backus average\r\n",
    "The Backus average is used to model a finely stratified medium as a single homogeneous medium.all materials are linearly elastic; there are no sources of intrinsic energy dissipation, such as friction or viscosity;\r\n",
    "and the layer thickness must be much smaller than the seismic wavelength. \r\n",
    "\r\n",
    "For a periodically layered medium with isotropic layers of n materials {n1, n2, ...} having concentrations {f1,f2,....}, f1+f2+...=1 and elastic moduli (Lamé coefficients) λ1,G1, λ2,G2,...λn,Gn:\r\n",
    "\r\n",
    "$\r\n",
    "C_{11}=\\left\\langle\\frac{4 \\mu(\\lambda+\\mu)}{\\lambda+2 \\mu}\\right\\rangle+\\left\\langle\\frac{1}{\\lambda+2 \\mu}\\right\\rangle^{-1}\\left\\langle\\frac{\\lambda}{\\lambda+2 \\mu}\\right\\rangle^{2}\r\n",
    "$\r\n",
    "\r\n",
    "$\r\n",
    "C_{33}=\\left\\langle\\frac{1}{\\lambda+2 \\mu}\\right\\rangle^{-1}\r\n",
    "$\r\n",
    "\r\n",
    "$\r\n",
    "C_{13}=\\left\\langle\\frac{1}{\\lambda+2 \\mu}\\right\\rangle^{-1}\\left\\langle\\frac{\\lambda}{\\lambda+2 \\mu}\\right\\rangle\r\n",
    "$\r\n",
    "\r\n",
    "$\r\n",
    "C_{44}=\\left\\langle\\frac{1}{\\mu}\\right\\rangle^{-1}\r\n",
    "$\r\n",
    "\r\n",
    "$\r\n",
    "C_{66}=\\langle\\mu\\rangle\r\n",
    "$\r\n",
    "\r\n",
    "$\r\n",
    "C_{12}=C_{11}-2C_{66}\r\n",
    "$\r\n"
   ],
   "metadata": {}
  },
  {
   "cell_type": "code",
   "execution_count": 3,
   "source": [
    "def Backus(V,lamda, G ):\r\n",
    "    \"\"\"Computes stiffnesses of a layered medium using backus average model. Written by Jiaxin Yu (July 2021)\r\n",
    "\r\n",
    "    Args:\r\n",
    "        V (num or array-like, frac): volumetric fractions of N isotropic layering materials\r\n",
    "        lamda (num or array-like): Lamé coefficients of N isotropic layering materials\r\n",
    "        G (num or array-like, GPa): shear moduli of N isotropic layering materials\r\n",
    "    Returns:\r\n",
    "        C11,C33,C13,C44,C66 (num or array-like, GPa): Elastic moduli of the anisotropic layered media\r\n",
    "    \"\"\"    \r\n",
    "    C33=np.dot(V, 1/(lamda+2*G)) **-1\r\n",
    "    C44=np.dot(V, 1/G)**-1\r\n",
    "    C66=np.dot(V, G)\r\n",
    "    C13=np.dot(V, 1/(lamda+2*G)) **-1 * np.dot(V, lamda/(lamda+2*G))\r\n",
    "    C11=np.dot(V, 4*G*(lamda+G)/(lamda+2*G))+np.dot(V, 1/(lamda+2*G))**-1 * np.dot(V, lamda/(lamda+2*G))**2\r\n",
    "    \r\n",
    "    return C11,C33,C13,C44,C66\r\n"
   ],
   "outputs": [],
   "metadata": {}
  },
  {
   "cell_type": "markdown",
   "source": [
    "## Examples\r\n",
    "* Let's estimate angle dependent weak anisotropy of a layered medium using backus average model."
   ],
   "metadata": {}
  },
  {
   "cell_type": "code",
   "execution_count": 48,
   "source": [
    "# specify model parameters\r\n",
    "lamda1, G1=5,5\r\n",
    "lamda2, G2=1,1\r\n",
    "den1=2.25\r\n",
    "den2=2.0\r\n",
    "V1,V2= 0.5,0.5 # volumetric fraction\r\n",
    "# Compute anisotropic elastic moduli\r\n",
    "V=np.array([V1,V2])\r\n",
    "lamda= np.array([lamda1,lamda2])\r\n",
    "G= np.array([G1,G2])\r\n",
    "C11,C33,C13,C44,C66= Backus(V,lamda,G)\r\n",
    "# compute effective density\r\n",
    "den= np.dot(V,np.array([den1,den2]))\r\n",
    "# compute angle dependent anisotropy from layering\r\n",
    "theta=np.linspace(0,90,50)\r\n",
    "VP, VSV, VSH= Thomsen(C11,C33,C13,C44,C66,den, theta)"
   ],
   "outputs": [],
   "metadata": {}
  },
  {
   "cell_type": "code",
   "execution_count": 50,
   "source": [
    "# plot\r\n",
    "plt.figure(figsize=(6,6))\r\n",
    "plt.xlabel('angle')\r\n",
    "plt.ylabel('velocity')\r\n",
    "plt.title('Anisotropy from layering')\r\n",
    "plt.plot(theta, VP, label='VqP')\r\n",
    "plt.plot(theta, VSV,label='VSH')\r\n",
    "plt.plot(theta, VSH,label='VqSV')\r\n",
    "plt.legend(loc='best')"
   ],
   "outputs": [
    {
     "output_type": "execute_result",
     "data": {
      "text/plain": [
       "<matplotlib.legend.Legend at 0x25e8cc75490>"
      ]
     },
     "metadata": {},
     "execution_count": 50
    },
    {
     "output_type": "display_data",
     "data": {
      "text/plain": [
       "<Figure size 432x432 with 1 Axes>"
      ],
      "image/png": "[encoded data removed]"
     },
     "metadata": {
      "needs_background": "light"
     }
    }
   ],
   "metadata": {}
  },
  {
   "cell_type": "markdown",
   "source": [],
   "metadata": {}
  },
  {
   "cell_type": "markdown",
   "source": [
    "<div class=\"alert alert-block alert-info\">\r\n",
    "<b>Reference:</b> Mavko, G., Mukerji, T. and Dvorkin, J., 2020. The rock physics handbook. Cambridge university press.\r\n",
    "</div>"
   ],
   "metadata": {}
  }
 ],
 "metadata": {
  "interpreter": {
   "hash": "c41312438b6edc86f6a892784e16392cb06488d191d80269831743d8f4207234"
  },
  "kernelspec": {
   "name": "python3",
   "display_name": "Python 3.8.6 64-bit"
  },
  "language_info": {
   "codemirror_mode": {
    "name": "ipython",
    "version": 3
   },
   "file_extension": ".py",
   "mimetype": "text/x-python",
   "name": "python",
   "nbconvert_exporter": "python",
   "pygments_lexer": "ipython3",
   "version": "3.8.6"
  },
  "orig_nbformat": 4
 },
 "nbformat": 4,
 "nbformat_minor": 2
}